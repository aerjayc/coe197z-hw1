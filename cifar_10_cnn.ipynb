{
  "nbformat": 4,
  "nbformat_minor": 0,
  "metadata": {
    "colab": {
      "name": "cifar-10-cnn.ipynb",
      "provenance": [],
      "collapsed_sections": [],
      "include_colab_link": true
    },
    "kernelspec": {
      "name": "python3",
      "display_name": "Python 3"
    },
    "accelerator": "GPU"
  },
  "cells": [
    {
      "cell_type": "markdown",
      "metadata": {
        "id": "view-in-github",
        "colab_type": "text"
      },
      "source": [
        "<a href=\"https://colab.research.google.com/github/aerjayc/coe197z-hw1/blob/master/cifar_10_cnn.ipynb\" target=\"_parent\"><img src=\"https://colab.research.google.com/assets/colab-badge.svg\" alt=\"Open In Colab\"/></a>"
      ]
    },
    {
      "cell_type": "code",
      "metadata": {
        "id": "yoF2svCn8hZP",
        "colab_type": "code",
        "outputId": "1647d185-5840-4b01-8a4c-9d139721d672",
        "colab": {
          "base_uri": "https://localhost:8080/",
          "height": 68
        }
      },
      "source": [
        "from keras.datasets import cifar10\n",
        "\n",
        "(x_train, y_train), (x_test, y_test) = cifar10.load_data()\n",
        "\n",
        "# normalization, vectorization\n",
        "from keras.utils import to_categorical\n",
        "\n",
        "x_train = x_train.astype('float32') / 255\n",
        "y_train = to_categorical(y_train)\n",
        "\n",
        "x_test = x_test.astype('float32') / 255\n",
        "y_test = to_categorical(y_test)"
      ],
      "execution_count": 0,
      "outputs": [
        {
          "output_type": "stream",
          "text": [
            "Using TensorFlow backend.\n"
          ],
          "name": "stderr"
        },
        {
          "output_type": "stream",
          "text": [
            "Downloading data from https://www.cs.toronto.edu/~kriz/cifar-10-python.tar.gz\n",
            "170500096/170498071 [==============================] - 2s 0us/step\n"
          ],
          "name": "stdout"
        }
      ]
    },
    {
      "cell_type": "code",
      "metadata": {
        "id": "KMTRgkcLDp2L",
        "colab_type": "code",
        "outputId": "a32c46d2-ef01-4a5d-8f7b-5e3561b31d60",
        "colab": {
          "base_uri": "https://localhost:8080/",
          "height": 459
        }
      },
      "source": [
        "from keras import models\n",
        "from keras import layers\n",
        "from keras import regularizers\n",
        "from keras import optimizers\n",
        "\n",
        "\n",
        "# input parameters\n",
        "input_shape = x_train[0].shape  # (32, 32, 3)\n",
        "num_labels = len(y_train[0])\n",
        "num_samples = len(x_train)\n",
        "\n",
        "# network parameters\n",
        "batch_size = 32\n",
        "epochs = 10\n",
        "dropout_rate = 0.35\n",
        "\n",
        "kernel_size = 4\n",
        "pool_size = (2,2)\n",
        "filters = [32,64,128]\n",
        "\n",
        "model = models.Sequential()\n",
        "model.add(layers.Conv2D(filters=filters[0],\n",
        "                        kernel_size=kernel_size,\n",
        "                        activation='relu',\n",
        "                        input_shape=input_shape,\n",
        "                        padding='same'))\n",
        "model.add(layers.MaxPooling2D(pool_size))\n",
        "model.add(layers.Conv2D(filters=filters[1],\n",
        "                        kernel_size=kernel_size,\n",
        "                        activation='relu',\n",
        "                        padding='same'))\n",
        "model.add(layers.MaxPooling2D(pool_size))\n",
        "model.add(layers.Conv2D(filters=filters[2],\n",
        "                        kernel_size=kernel_size,\n",
        "                        activation='relu',\n",
        "                        padding='same'))\n",
        "model.add(layers.MaxPooling2D(pool_size))\n",
        "\n",
        "model.add(layers.Flatten())\n",
        "model.add(layers.Dropout(dropout_rate))\n",
        "\n",
        "model.add(layers.Dense(num_labels, activation='softmax'))\n",
        "\n",
        "model.compile(optimizer='rmsprop', loss='categorical_crossentropy', metrics=['accuracy'])\n",
        "model.summary()"
      ],
      "execution_count": 0,
      "outputs": [
        {
          "output_type": "stream",
          "text": [
            "Model: \"sequential_2\"\n",
            "_________________________________________________________________\n",
            "Layer (type)                 Output Shape              Param #   \n",
            "=================================================================\n",
            "conv2d_4 (Conv2D)            (None, 32, 32, 32)        1568      \n",
            "_________________________________________________________________\n",
            "max_pooling2d_4 (MaxPooling2 (None, 16, 16, 32)        0         \n",
            "_________________________________________________________________\n",
            "conv2d_5 (Conv2D)            (None, 16, 16, 64)        32832     \n",
            "_________________________________________________________________\n",
            "max_pooling2d_5 (MaxPooling2 (None, 8, 8, 64)          0         \n",
            "_________________________________________________________________\n",
            "conv2d_6 (Conv2D)            (None, 8, 8, 128)         131200    \n",
            "_________________________________________________________________\n",
            "max_pooling2d_6 (MaxPooling2 (None, 4, 4, 128)         0         \n",
            "_________________________________________________________________\n",
            "flatten_2 (Flatten)          (None, 2048)              0         \n",
            "_________________________________________________________________\n",
            "dropout_2 (Dropout)          (None, 2048)              0         \n",
            "_________________________________________________________________\n",
            "dense_2 (Dense)              (None, 10)                20490     \n",
            "=================================================================\n",
            "Total params: 186,090\n",
            "Trainable params: 186,090\n",
            "Non-trainable params: 0\n",
            "_________________________________________________________________\n"
          ],
          "name": "stdout"
        }
      ]
    },
    {
      "cell_type": "code",
      "metadata": {
        "id": "FL_t7Z197fqS",
        "colab_type": "code",
        "outputId": "4e575acd-b8df-44d1-a03a-040c86612946",
        "colab": {
          "base_uri": "https://localhost:8080/",
          "height": 357
        }
      },
      "source": [
        "# training on the entire training set\n",
        "history = model.fit(x_train, y_train, epochs=epochs, batch_size=batch_size)"
      ],
      "execution_count": 0,
      "outputs": [
        {
          "output_type": "stream",
          "text": [
            "Epoch 1/10\n",
            "50000/50000 [==============================] - 18s 358us/step - loss: 1.4925 - acc: 0.4622\n",
            "Epoch 2/10\n",
            "50000/50000 [==============================] - 17s 350us/step - loss: 1.0710 - acc: 0.6258\n",
            "Epoch 3/10\n",
            "50000/50000 [==============================] - 17s 349us/step - loss: 0.9165 - acc: 0.6831\n",
            "Epoch 4/10\n",
            "50000/50000 [==============================] - 17s 345us/step - loss: 0.8325 - acc: 0.7134\n",
            "Epoch 5/10\n",
            "50000/50000 [==============================] - 17s 343us/step - loss: 0.7757 - acc: 0.7323\n",
            "Epoch 6/10\n",
            "50000/50000 [==============================] - 17s 340us/step - loss: 0.7351 - acc: 0.7513\n",
            "Epoch 7/10\n",
            "50000/50000 [==============================] - 17s 337us/step - loss: 0.7098 - acc: 0.7598\n",
            "Epoch 8/10\n",
            "50000/50000 [==============================] - 17s 334us/step - loss: 0.6879 - acc: 0.7694\n",
            "Epoch 9/10\n",
            "50000/50000 [==============================] - 17s 336us/step - loss: 0.6673 - acc: 0.7743\n",
            "Epoch 10/10\n",
            "50000/50000 [==============================] - 17s 334us/step - loss: 0.6506 - acc: 0.7836\n"
          ],
          "name": "stdout"
        }
      ]
    },
    {
      "cell_type": "code",
      "metadata": {
        "id": "VkgyEidK4et0",
        "colab_type": "code",
        "outputId": "cdad29b6-ec2b-434d-d212-08b0326be379",
        "colab": {
          "base_uri": "https://localhost:8080/",
          "height": 51
        }
      },
      "source": [
        "model.evaluate(x_test, y_test)"
      ],
      "execution_count": 0,
      "outputs": [
        {
          "output_type": "stream",
          "text": [
            "10000/10000 [==============================] - 1s 147us/step\n"
          ],
          "name": "stdout"
        },
        {
          "output_type": "execute_result",
          "data": {
            "text/plain": [
              "[0.8567563549995423, 0.7284]"
            ]
          },
          "metadata": {
            "tags": []
          },
          "execution_count": 7
        }
      ]
    },
    {
      "cell_type": "markdown",
      "metadata": {
        "id": "U9z_aJcuFkZh",
        "colab_type": "text"
      },
      "source": [
        "*See* `README.md` *for the performance comparison*"
      ]
    }
  ]
}
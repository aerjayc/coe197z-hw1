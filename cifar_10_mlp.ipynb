{
  "nbformat": 4,
  "nbformat_minor": 0,
  "metadata": {
    "colab": {
      "name": "cifar-10-mlp.ipynb",
      "version": "0.3.2",
      "provenance": [],
      "collapsed_sections": [],
      "include_colab_link": true
    },
    "kernelspec": {
      "name": "python3",
      "display_name": "Python 3"
    },
    "accelerator": "GPU"
  },
  "cells": [
    {
      "cell_type": "markdown",
      "metadata": {
        "id": "view-in-github",
        "colab_type": "text"
      },
      "source": [
        "<a href=\"https://colab.research.google.com/github/aerjayc/coe197z-hw1/blob/master/cifar_10_mlp.ipynb\" target=\"_parent\"><img src=\"https://colab.research.google.com/assets/colab-badge.svg\" alt=\"Open In Colab\"/></a>"
      ]
    },
    {
      "cell_type": "markdown",
      "metadata": {
        "colab_type": "text",
        "id": "VVHwkt0uORdR"
      },
      "source": [
        "First, we download the `CIFAR-10` dataset and extract its contents to the current directory. The working directory is now:\n",
        "\n",
        "\n",
        "```\n",
        ">ls\n",
        "  cifar-10-batches-py  cifar-10-python.tar.gz  sample_data\n",
        ">ls cifar-10-batches-py\n",
        "  batches.meta  data_batch_2  data_batch_4  readme.html\n",
        "  data_batch_1  data_batch_3  data_batch_5  test_batch\n",
        "```\n",
        "\n"
      ]
    },
    {
      "cell_type": "code",
      "metadata": {
        "id": "XBHS-YoKCpV8",
        "colab_type": "code",
        "outputId": "91efde2b-d11c-440c-e2a3-770bb7eb92f4",
        "colab": {
          "base_uri": "https://localhost:8080/",
          "height": 357
        }
      },
      "source": [
        "!wget http://www.cs.toronto.edu/~kriz/cifar-10-python.tar.gz\n",
        "!tar -xzvf cifar-10-python.tar.gz"
      ],
      "execution_count": 1,
      "outputs": [
        {
          "output_type": "stream",
          "text": [
            "--2019-09-14 16:49:48--  http://www.cs.toronto.edu/~kriz/cifar-10-python.tar.gz\n",
            "Resolving www.cs.toronto.edu (www.cs.toronto.edu)... 128.100.3.30\n",
            "Connecting to www.cs.toronto.edu (www.cs.toronto.edu)|128.100.3.30|:80... connected.\n",
            "HTTP request sent, awaiting response... 200 OK\n",
            "Length: 170498071 (163M) [application/x-gzip]\n",
            "Saving to: ‘cifar-10-python.tar.gz’\n",
            "\n",
            "cifar-10-python.tar 100%[===================>] 162.60M  13.9MB/s    in 13s     \n",
            "\n",
            "2019-09-14 16:50:03 (12.1 MB/s) - ‘cifar-10-python.tar.gz’ saved [170498071/170498071]\n",
            "\n",
            "cifar-10-batches-py/\n",
            "cifar-10-batches-py/data_batch_4\n",
            "cifar-10-batches-py/readme.html\n",
            "cifar-10-batches-py/test_batch\n",
            "cifar-10-batches-py/data_batch_3\n",
            "cifar-10-batches-py/batches.meta\n",
            "cifar-10-batches-py/data_batch_2\n",
            "cifar-10-batches-py/data_batch_5\n",
            "cifar-10-batches-py/data_batch_1\n"
          ],
          "name": "stdout"
        }
      ]
    },
    {
      "cell_type": "markdown",
      "metadata": {
        "id": "pR8sSc0NZL3e",
        "colab_type": "text"
      },
      "source": [
        "Then, we \"unpickle\" the downloaded dataset. The `unpickle()` function was taken from the [CIFAR website](http://www.cs.toronto.edu/~kriz/cifar.html). It takes the filename of any of the batch files, and outputs the `dict` contained in that file.\n",
        "The structure of these `dict`'s is the following:\n",
        "\n",
        "\n",
        "```\n",
        "batch = {\n",
        "  b'batch_label': b'training batch 1 of 5',\n",
        "  b'data': array([ [<image_0>],\n",
        "                   ...,\n",
        "                   [<image 9999>]\n",
        "                 ], dtype=uint8),\n",
        "  b'filenames': [b'<filename_0.png',\n",
        "                 ...,\n",
        "                 b'<filename_9999.png',\n",
        "                ],\n",
        "  b'labels': [<label_0>, ..., <label_9999>],\n",
        "}\n",
        "```\n",
        "\n",
        "where:\n",
        "\n",
        "*   `[<image i>]` is a numpy vector of shape `(1024*1024*3,)`. The first `1024` entries in the vector correspond to the pixel intensities of the red channel, the second `1024` corresponds to the blue channel, and so on. Note that the pixel intensity spans the entire uint8 values.\n",
        "*   `b'<filename_i>'` is a binary string corresponding to the filename of the `i`-th image\n",
        "*   `<label_i>` $\\in \\{0,1,...,9\\}$, where each integer corresponds to some classification of the `i`-th image\n",
        "\n",
        "Note that the dictionary keys are binary strings."
      ]
    },
    {
      "cell_type": "code",
      "metadata": {
        "id": "YOsCAN0uT7w-",
        "colab_type": "code",
        "colab": {}
      },
      "source": [
        "def unpickle(file):\n",
        "  import pickle\n",
        "  with open(file, 'rb') as fo:\n",
        "    dict = pickle.load(fo, encoding='bytes')\n",
        "  return dict\n",
        "\n",
        "data_batch_1 = unpickle('cifar-10-batches-py/data_batch_1')\n",
        "data_batch_2 = unpickle('cifar-10-batches-py/data_batch_2')\n",
        "data_batch_3 = unpickle('cifar-10-batches-py/data_batch_3')\n",
        "data_batch_4 = unpickle('cifar-10-batches-py/data_batch_4')\n",
        "test_batch   = unpickle('cifar-10-batches-py/test_batch')\n",
        "# x1 = data_batch_1[b'data']\n",
        "# y1 = data_batch_1[b'labels']"
      ],
      "execution_count": 0,
      "outputs": []
    },
    {
      "cell_type": "code",
      "metadata": {
        "id": "uYPDqOynsA16",
        "colab_type": "code",
        "colab": {}
      },
      "source": [
        "import numpy as np\n",
        "\n",
        "x = np.concatenate((data_batch_1[b'data'],\n",
        "              data_batch_2[b'data'],\n",
        "              data_batch_3[b'data'],\n",
        "              data_batch_4[b'data']))\n",
        "y = np.concatenate((data_batch_1[b'labels'],\n",
        "              data_batch_2[b'labels'],\n",
        "              data_batch_3[b'labels'],\n",
        "              data_batch_4[b'labels']))\n",
        "\n",
        "x_test = test_batch[b'data']\n",
        "y_test = test_batch[b'labels']"
      ],
      "execution_count": 0,
      "outputs": []
    },
    {
      "cell_type": "markdown",
      "metadata": {
        "id": "7AiIG_tnM_6n",
        "colab_type": "text"
      },
      "source": [
        "https://stackoverflow.com/questions/4601373/better-way-to-shuffle-two-numpy-arrays-in-unison"
      ]
    },
    {
      "cell_type": "code",
      "metadata": {
        "id": "a9pOirjuBGHI",
        "colab_type": "code",
        "colab": {}
      },
      "source": [
        "def split_train_set(data, labels, data_fraction=0.8):\n",
        "  assert 0 < data_fraction <= 1\n",
        "\n",
        "  # jointly shuffle the data and labels first\n",
        "  # note: data and labels get shuffled (not copied)\n",
        "  rng_state = np.random.get_state()\n",
        "  np.random.shuffle(data)\n",
        "  np.random.set_state(rng_state)\n",
        "  np.random.shuffle(labels)\n",
        "\n",
        "  # get the first data_fraction of the train set\n",
        "  boundary = int(len(data)*data_fraction)\n",
        "  train_data   = data[:boundary]\n",
        "  train_labels = labels[:boundary]\n",
        "  validation_data = data[boundary:]\n",
        "  validation_labels = labels[boundary:]\n",
        "\n",
        "  return (train_data, train_labels), (validation_data, validation_labels)\n",
        "\n",
        "(x_train, y_train), (x_val, y_val) = split_train_set(x, y)\n",
        "\n",
        "# normalization, vectorization\n",
        "from keras.utils import to_categorical\n",
        "x_train = x_train.astype('float32') / 255\n",
        "y_train = to_categorical(y_train)\n",
        "x_val = x_val.astype('float32') / 255\n",
        "y_val = to_categorical(y_val)"
      ],
      "execution_count": 0,
      "outputs": []
    },
    {
      "cell_type": "code",
      "metadata": {
        "id": "ETRxZJsWOYJa",
        "colab_type": "code",
        "outputId": "71a289a7-9c6d-4423-bc44-b3bf6cdb31e7",
        "colab": {
          "base_uri": "https://localhost:8080/",
          "height": 255
        }
      },
      "source": [
        "from keras import models\n",
        "from keras import layers\n",
        "\n",
        "# input parameters\n",
        "input_shape = x_train[0].shape\n",
        "num_labels = 10\n",
        "\n",
        "# network parameters\n",
        "batch_size = 64\n",
        "hidden_units = 128\n",
        "data_augmentation = False\n",
        "epochs = 50\n",
        "max_batches = len(x_train) // batch_size\n",
        "\n",
        "model = models.Sequential()\n",
        "model.add(layers.Dense(hidden_units, activation='relu', \n",
        "                       input_shape=input_shape))\n",
        "model.add(layers.Dense(hidden_units, activation='relu'))\n",
        "model.add(layers.Dense(num_labels, activation='softmax'))\n",
        "\n",
        "model.compile(optimizer='rmsprop',\n",
        "              loss='categorical_crossentropy',\n",
        "              metrics=['accuracy'])\n",
        "\n",
        "model.summary()"
      ],
      "execution_count": 30,
      "outputs": [
        {
          "output_type": "stream",
          "text": [
            "Model: \"sequential_2\"\n",
            "_________________________________________________________________\n",
            "Layer (type)                 Output Shape              Param #   \n",
            "=================================================================\n",
            "dense_4 (Dense)              (None, 128)               393344    \n",
            "_________________________________________________________________\n",
            "dense_5 (Dense)              (None, 128)               16512     \n",
            "_________________________________________________________________\n",
            "dense_6 (Dense)              (None, 10)                1290      \n",
            "=================================================================\n",
            "Total params: 411,146\n",
            "Trainable params: 411,146\n",
            "Non-trainable params: 0\n",
            "_________________________________________________________________\n"
          ],
          "name": "stdout"
        }
      ]
    },
    {
      "cell_type": "code",
      "metadata": {
        "id": "K8kH2HKPjLRB",
        "colab_type": "code",
        "outputId": "89069b6f-8774-49d4-fdd5-731eb074f2e6",
        "colab": {
          "base_uri": "https://localhost:8080/",
          "height": 1000
        }
      },
      "source": [
        "# training the model\n",
        "history = model.fit(x_train, y_train,\n",
        "                    epochs=epochs, batch_size=batch_size,\n",
        "                    validation_data=(x_val, y_val))"
      ],
      "execution_count": 31,
      "outputs": [
        {
          "output_type": "stream",
          "text": [
            "Train on 32000 samples, validate on 8000 samples\n",
            "Epoch 1/50\n",
            "32000/32000 [==============================] - 2s 70us/step - loss: 2.0468 - acc: 0.2654 - val_loss: 1.8892 - val_acc: 0.3294\n",
            "Epoch 2/50\n",
            "32000/32000 [==============================] - 2s 64us/step - loss: 1.8079 - acc: 0.3477 - val_loss: 1.7308 - val_acc: 0.3755\n",
            "Epoch 3/50\n",
            "32000/32000 [==============================] - 2s 64us/step - loss: 1.7256 - acc: 0.3822 - val_loss: 1.6864 - val_acc: 0.3960\n",
            "Epoch 4/50\n",
            "32000/32000 [==============================] - 2s 64us/step - loss: 1.6674 - acc: 0.4028 - val_loss: 1.6787 - val_acc: 0.3949\n",
            "Epoch 5/50\n",
            "32000/32000 [==============================] - 2s 61us/step - loss: 1.6297 - acc: 0.4168 - val_loss: 1.6457 - val_acc: 0.4093\n",
            "Epoch 6/50\n",
            "32000/32000 [==============================] - 2s 60us/step - loss: 1.5932 - acc: 0.4289 - val_loss: 1.6772 - val_acc: 0.3924\n",
            "Epoch 7/50\n",
            "32000/32000 [==============================] - 2s 62us/step - loss: 1.5658 - acc: 0.4413 - val_loss: 1.6406 - val_acc: 0.4276\n",
            "Epoch 8/50\n",
            "32000/32000 [==============================] - 2s 63us/step - loss: 1.5420 - acc: 0.4503 - val_loss: 1.6083 - val_acc: 0.4255\n",
            "Epoch 9/50\n",
            "32000/32000 [==============================] - 2s 62us/step - loss: 1.5179 - acc: 0.4602 - val_loss: 1.6753 - val_acc: 0.4153\n",
            "Epoch 10/50\n",
            "32000/32000 [==============================] - 2s 63us/step - loss: 1.5040 - acc: 0.4649 - val_loss: 1.5758 - val_acc: 0.4447\n",
            "Epoch 11/50\n",
            "32000/32000 [==============================] - 2s 60us/step - loss: 1.4853 - acc: 0.4687 - val_loss: 1.5581 - val_acc: 0.4512\n",
            "Epoch 12/50\n",
            "32000/32000 [==============================] - 2s 62us/step - loss: 1.4702 - acc: 0.4761 - val_loss: 1.6031 - val_acc: 0.4404\n",
            "Epoch 13/50\n",
            "32000/32000 [==============================] - 2s 61us/step - loss: 1.4565 - acc: 0.4818 - val_loss: 1.5375 - val_acc: 0.4587\n",
            "Epoch 14/50\n",
            "32000/32000 [==============================] - 2s 58us/step - loss: 1.4427 - acc: 0.4865 - val_loss: 1.6166 - val_acc: 0.4364\n",
            "Epoch 15/50\n",
            "32000/32000 [==============================] - 2s 58us/step - loss: 1.4243 - acc: 0.4911 - val_loss: 1.5828 - val_acc: 0.4569\n",
            "Epoch 16/50\n",
            "32000/32000 [==============================] - 2s 60us/step - loss: 1.4175 - acc: 0.4957 - val_loss: 1.5603 - val_acc: 0.4546\n",
            "Epoch 17/50\n",
            "32000/32000 [==============================] - 2s 62us/step - loss: 1.4069 - acc: 0.4997 - val_loss: 1.5481 - val_acc: 0.4657\n",
            "Epoch 18/50\n",
            "32000/32000 [==============================] - 2s 62us/step - loss: 1.3973 - acc: 0.5048 - val_loss: 1.5418 - val_acc: 0.4606\n",
            "Epoch 19/50\n",
            "32000/32000 [==============================] - 2s 60us/step - loss: 1.3881 - acc: 0.5048 - val_loss: 1.5592 - val_acc: 0.4582\n",
            "Epoch 20/50\n",
            "32000/32000 [==============================] - 2s 62us/step - loss: 1.3783 - acc: 0.5091 - val_loss: 1.5311 - val_acc: 0.4751\n",
            "Epoch 21/50\n",
            "32000/32000 [==============================] - 2s 60us/step - loss: 1.3683 - acc: 0.5127 - val_loss: 1.5917 - val_acc: 0.4469\n",
            "Epoch 22/50\n",
            "32000/32000 [==============================] - 2s 61us/step - loss: 1.3604 - acc: 0.5138 - val_loss: 1.5695 - val_acc: 0.4627\n",
            "Epoch 23/50\n",
            "32000/32000 [==============================] - 2s 62us/step - loss: 1.3515 - acc: 0.5161 - val_loss: 1.6483 - val_acc: 0.4380\n",
            "Epoch 24/50\n",
            "32000/32000 [==============================] - 2s 63us/step - loss: 1.3498 - acc: 0.5226 - val_loss: 1.5407 - val_acc: 0.4632\n",
            "Epoch 25/50\n",
            "32000/32000 [==============================] - 2s 61us/step - loss: 1.3411 - acc: 0.5195 - val_loss: 1.5591 - val_acc: 0.4629\n",
            "Epoch 26/50\n",
            "32000/32000 [==============================] - 2s 61us/step - loss: 1.3313 - acc: 0.5261 - val_loss: 1.5212 - val_acc: 0.4805\n",
            "Epoch 27/50\n",
            "32000/32000 [==============================] - 2s 61us/step - loss: 1.3236 - acc: 0.5280 - val_loss: 1.5480 - val_acc: 0.4664\n",
            "Epoch 28/50\n",
            "32000/32000 [==============================] - 2s 61us/step - loss: 1.3199 - acc: 0.5277 - val_loss: 1.5122 - val_acc: 0.4824\n",
            "Epoch 29/50\n",
            "32000/32000 [==============================] - 2s 62us/step - loss: 1.3159 - acc: 0.5327 - val_loss: 1.6086 - val_acc: 0.4600\n",
            "Epoch 30/50\n",
            "32000/32000 [==============================] - 2s 62us/step - loss: 1.3079 - acc: 0.5349 - val_loss: 1.5612 - val_acc: 0.4698\n",
            "Epoch 31/50\n",
            "32000/32000 [==============================] - 2s 62us/step - loss: 1.3034 - acc: 0.5330 - val_loss: 1.5352 - val_acc: 0.4785\n",
            "Epoch 32/50\n",
            "32000/32000 [==============================] - 2s 60us/step - loss: 1.2966 - acc: 0.5398 - val_loss: 1.5402 - val_acc: 0.4781\n",
            "Epoch 33/50\n",
            "32000/32000 [==============================] - 2s 59us/step - loss: 1.2921 - acc: 0.5387 - val_loss: 1.5549 - val_acc: 0.4800\n",
            "Epoch 34/50\n",
            "32000/32000 [==============================] - 2s 61us/step - loss: 1.2867 - acc: 0.5394 - val_loss: 1.5628 - val_acc: 0.4785\n",
            "Epoch 35/50\n",
            "32000/32000 [==============================] - 2s 61us/step - loss: 1.2843 - acc: 0.5411 - val_loss: 1.5723 - val_acc: 0.4705\n",
            "Epoch 36/50\n",
            "32000/32000 [==============================] - 2s 61us/step - loss: 1.2770 - acc: 0.5449 - val_loss: 1.5735 - val_acc: 0.4694\n",
            "Epoch 37/50\n",
            "32000/32000 [==============================] - 2s 62us/step - loss: 1.2762 - acc: 0.5452 - val_loss: 1.5642 - val_acc: 0.4740\n",
            "Epoch 38/50\n",
            "32000/32000 [==============================] - 2s 62us/step - loss: 1.2729 - acc: 0.5472 - val_loss: 1.5774 - val_acc: 0.4715\n",
            "Epoch 39/50\n",
            "32000/32000 [==============================] - 2s 60us/step - loss: 1.2686 - acc: 0.5496 - val_loss: 1.5809 - val_acc: 0.4776\n",
            "Epoch 40/50\n",
            "32000/32000 [==============================] - 2s 59us/step - loss: 1.2626 - acc: 0.5518 - val_loss: 1.5823 - val_acc: 0.4744\n",
            "Epoch 41/50\n",
            "32000/32000 [==============================] - 2s 62us/step - loss: 1.2610 - acc: 0.5501 - val_loss: 1.6080 - val_acc: 0.4749\n",
            "Epoch 42/50\n",
            "32000/32000 [==============================] - 2s 60us/step - loss: 1.2586 - acc: 0.5519 - val_loss: 1.5625 - val_acc: 0.4790\n",
            "Epoch 43/50\n",
            "32000/32000 [==============================] - 2s 61us/step - loss: 1.2544 - acc: 0.5527 - val_loss: 1.6377 - val_acc: 0.4600\n",
            "Epoch 44/50\n",
            "32000/32000 [==============================] - 2s 61us/step - loss: 1.2461 - acc: 0.5578 - val_loss: 1.6149 - val_acc: 0.4731\n",
            "Epoch 45/50\n",
            "32000/32000 [==============================] - 2s 61us/step - loss: 1.2457 - acc: 0.5539 - val_loss: 1.5660 - val_acc: 0.4833\n",
            "Epoch 46/50\n",
            "32000/32000 [==============================] - 2s 59us/step - loss: 1.2441 - acc: 0.5596 - val_loss: 1.6571 - val_acc: 0.4711\n",
            "Epoch 47/50\n",
            "32000/32000 [==============================] - 2s 61us/step - loss: 1.2427 - acc: 0.5573 - val_loss: 1.6337 - val_acc: 0.4681\n",
            "Epoch 48/50\n",
            "32000/32000 [==============================] - 2s 60us/step - loss: 1.2324 - acc: 0.5598 - val_loss: 1.6722 - val_acc: 0.4646\n",
            "Epoch 49/50\n",
            "32000/32000 [==============================] - 2s 62us/step - loss: 1.2292 - acc: 0.5617 - val_loss: 1.7141 - val_acc: 0.4425\n",
            "Epoch 50/50\n",
            "32000/32000 [==============================] - 2s 62us/step - loss: 1.2320 - acc: 0.5632 - val_loss: 1.6000 - val_acc: 0.4838\n"
          ],
          "name": "stdout"
        }
      ]
    },
    {
      "cell_type": "code",
      "metadata": {
        "id": "5ZnwNbcDiw8d",
        "colab_type": "code",
        "outputId": "4e7f1dd5-d802-4838-bcb0-7264694356bb",
        "colab": {
          "base_uri": "https://localhost:8080/",
          "height": 295
        }
      },
      "source": [
        "plot_loss(history)"
      ],
      "execution_count": 32,
      "outputs": [
        {
          "output_type": "display_data",
          "data": {
            "image/png": "[encoded data removed]",
            "text/plain": [
              "<Figure size 432x288 with 1 Axes>"
            ]
          },
          "metadata": {
            "tags": []
          }
        }
      ]
    },
    {
      "cell_type": "code",
      "metadata": {
        "id": "aZKkWWm2hVBX",
        "colab_type": "code",
        "colab": {}
      },
      "source": [
        "# plotting the training and validation losses\n",
        "import matplotlib.pyplot as plt\n",
        "\n",
        "def plot_loss(history):\n",
        "  # assert 'val_loss' in history.history\n",
        "\n",
        "  loss = history.history['loss']\n",
        "  val_loss = history.history['val_loss']\n",
        "\n",
        "  epoch_axis = range(1, epochs + 1)\n",
        "\n",
        "  plt.plot(epoch_axis, loss, 'bo', label='Training loss')\n",
        "  plt.plot(epoch_axis, val_loss, 'b', label='Validation loss')\n",
        "\n",
        "  plt.title('Training and Validation Loss')\n",
        "  plt.xlabel('Epochs')\n",
        "  plt.ylabel('Loss')\n",
        "  plt.legend()\n",
        "\n",
        "  plt.show()"
      ],
      "execution_count": 0,
      "outputs": []
    },
    {
      "cell_type": "code",
      "metadata": {
        "id": "g4gCJvq5hdri",
        "colab_type": "code",
        "colab": {}
      },
      "source": [
        "# plotting the training and validation accuracy\n",
        "def plot_acc(history):\n",
        "  # assert 'val_acc' in history.history\n",
        "  acc = history.history['acc']\n",
        "  val_acc = history.history['val_acc']\n",
        "\n",
        "  plt.plot(epochs, acc, 'ro', label='Training acc')\n",
        "  plt.plot(epochs, val_acc, 'r', label='Validation acc')\n",
        "\n",
        "  plt.title('Training and validation loss & acc')\n",
        "  plt.xlabel('Epochs')\n",
        "  plt.ylabel('Acc')\n",
        "  plt.legend()\n",
        "\n",
        "  plt.show()"
      ],
      "execution_count": 0,
      "outputs": []
    }
  ]
}
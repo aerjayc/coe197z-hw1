{
  "nbformat": 4,
  "nbformat_minor": 0,
  "metadata": {
    "colab": {
      "name": "cifar-10-mlp.ipynb",
      "version": "0.3.2",
      "provenance": [],
      "collapsed_sections": [],
      "include_colab_link": true
    },
    "kernelspec": {
      "name": "python3",
      "display_name": "Python 3"
    },
    "accelerator": "GPU"
  },
  "cells": [
    {
      "cell_type": "markdown",
      "metadata": {
        "id": "view-in-github",
        "colab_type": "text"
      },
      "source": [
        "<a href=\"https://colab.research.google.com/github/aerjayc/coe197z-hw1/blob/master/cifar_10_mlp.ipynb\" target=\"_parent\"><img src=\"https://colab.research.google.com/assets/colab-badge.svg\" alt=\"Open In Colab\"/></a>"
      ]
    },
    {
      "cell_type": "markdown",
      "metadata": {
        "colab_type": "text",
        "id": "VVHwkt0uORdR"
      },
      "source": [
        "First, we download the `CIFAR-10` dataset and extract its contents to the current directory. The working directory is now:\n",
        "\n",
        "\n",
        "```\n",
        ">ls\n",
        "  cifar-10-batches-py  cifar-10-python.tar.gz  sample_data\n",
        ">ls cifar-10-batches-py\n",
        "  batches.meta  data_batch_2  data_batch_4  readme.html\n",
        "  data_batch_1  data_batch_3  data_batch_5  test_batch\n",
        "```\n",
        "\n"
      ]
    },
    {
      "cell_type": "code",
      "metadata": {
        "id": "XBHS-YoKCpV8",
        "colab_type": "code",
        "outputId": "91efde2b-d11c-440c-e2a3-770bb7eb92f4",
        "colab": {
          "base_uri": "https://localhost:8080/",
          "height": 357
        }
      },
      "source": [
        "!wget http://www.cs.toronto.edu/~kriz/cifar-10-python.tar.gz\n",
        "!tar -xzvf cifar-10-python.tar.gz"
      ],
      "execution_count": 1,
      "outputs": [
        {
          "output_type": "stream",
          "text": [
            "--2019-09-14 16:49:48--  http://www.cs.toronto.edu/~kriz/cifar-10-python.tar.gz\n",
            "Resolving www.cs.toronto.edu (www.cs.toronto.edu)... 128.100.3.30\n",
            "Connecting to www.cs.toronto.edu (www.cs.toronto.edu)|128.100.3.30|:80... connected.\n",
            "HTTP request sent, awaiting response... 200 OK\n",
            "Length: 170498071 (163M) [application/x-gzip]\n",
            "Saving to: ‘cifar-10-python.tar.gz’\n",
            "\n",
            "cifar-10-python.tar 100%[===================>] 162.60M  13.9MB/s    in 13s     \n",
            "\n",
            "2019-09-14 16:50:03 (12.1 MB/s) - ‘cifar-10-python.tar.gz’ saved [170498071/170498071]\n",
            "\n",
            "cifar-10-batches-py/\n",
            "cifar-10-batches-py/data_batch_4\n",
            "cifar-10-batches-py/readme.html\n",
            "cifar-10-batches-py/test_batch\n",
            "cifar-10-batches-py/data_batch_3\n",
            "cifar-10-batches-py/batches.meta\n",
            "cifar-10-batches-py/data_batch_2\n",
            "cifar-10-batches-py/data_batch_5\n",
            "cifar-10-batches-py/data_batch_1\n"
          ],
          "name": "stdout"
        }
      ]
    },
    {
      "cell_type": "markdown",
      "metadata": {
        "id": "pR8sSc0NZL3e",
        "colab_type": "text"
      },
      "source": [
        "Then, we \"unpickle\" the downloaded dataset. The `unpickle()` function was taken from the [CIFAR website](http://www.cs.toronto.edu/~kriz/cifar.html). It takes the filename of any of the batch files, and outputs the `dict` contained in that file.\n",
        "The structure of these `dict`'s is the following:\n",
        "\n",
        "\n",
        "```\n",
        "batch = {\n",
        "  b'batch_label': b'training batch 1 of 5',\n",
        "  b'data': array([ [<image_0>],\n",
        "                   ...,\n",
        "                   [<image 9999>]\n",
        "                 ], dtype=uint8),\n",
        "  b'filenames': [b'<filename_0.png',\n",
        "                 ...,\n",
        "                 b'<filename_9999.png',\n",
        "                ],\n",
        "  b'labels': [<label_0>, ..., <label_9999>],\n",
        "}\n",
        "```\n",
        "\n",
        "where:\n",
        "\n",
        "*   `[<image i>]` is a numpy vector of shape `(1024*1024*3,)`. The first `1024` entries in the vector correspond to the pixel intensities of the red channel, the second `1024` corresponds to the blue channel, and so on. Note that the pixel intensity spans the entire uint8 values.\n",
        "*   `b'<filename_i>'` is a binary string corresponding to the filename of the `i`-th image\n",
        "*   `<label_i>` $\\in \\{0,1,...,9\\}$, where each integer corresponds to some classification of the `i`-th image\n",
        "\n",
        "Note that the dictionary keys are binary strings."
      ]
    },
    {
      "cell_type": "code",
      "metadata": {
        "id": "YOsCAN0uT7w-",
        "colab_type": "code",
        "colab": {}
      },
      "source": [
        "def unpickle(file):\n",
        "  import pickle\n",
        "  with open(file, 'rb') as fo:\n",
        "    dict = pickle.load(fo, encoding='bytes')\n",
        "  return dict\n",
        "\n",
        "data_batch_1 = unpickle('cifar-10-batches-py/data_batch_1')\n",
        "data_batch_2 = unpickle('cifar-10-batches-py/data_batch_2')\n",
        "data_batch_3 = unpickle('cifar-10-batches-py/data_batch_3')\n",
        "data_batch_4 = unpickle('cifar-10-batches-py/data_batch_4')\n",
        "test_batch   = unpickle('cifar-10-batches-py/test_batch')\n",
        "# x1 = data_batch_1[b'data']\n",
        "# y1 = data_batch_1[b'labels']"
      ],
      "execution_count": 0,
      "outputs": []
    },
    {
      "cell_type": "code",
      "metadata": {
        "id": "uYPDqOynsA16",
        "colab_type": "code",
        "colab": {}
      },
      "source": [
        "import numpy as np\n",
        "\n",
        "x = np.concatenate((data_batch_1[b'data'],\n",
        "              data_batch_2[b'data'],\n",
        "              data_batch_3[b'data'],\n",
        "              data_batch_4[b'data']))\n",
        "y = np.concatenate((data_batch_1[b'labels'],\n",
        "              data_batch_2[b'labels'],\n",
        "              data_batch_3[b'labels'],\n",
        "              data_batch_4[b'labels']))\n",
        "\n",
        "x_test = test_batch[b'data']\n",
        "y_test = test_batch[b'labels']"
      ],
      "execution_count": 0,
      "outputs": []
    },
    {
      "cell_type": "markdown",
      "metadata": {
        "id": "7AiIG_tnM_6n",
        "colab_type": "text"
      },
      "source": [
        "https://stackoverflow.com/questions/4601373/better-way-to-shuffle-two-numpy-arrays-in-unison"
      ]
    },
    {
      "cell_type": "code",
      "metadata": {
        "id": "a9pOirjuBGHI",
        "colab_type": "code",
        "colab": {}
      },
      "source": [
        "def split_train_set(data, labels, data_fraction=0.8):\n",
        "  assert 0 < data_fraction <= 1\n",
        "\n",
        "  # jointly shuffle the data and labels first\n",
        "  # note: data and labels get shuffled (not copied)\n",
        "  rng_state = np.random.get_state()\n",
        "  np.random.shuffle(data)\n",
        "  np.random.set_state(rng_state)\n",
        "  np.random.shuffle(labels)\n",
        "\n",
        "  # get the first data_fraction of the train set\n",
        "  boundary = int(len(data)*data_fraction)\n",
        "  train_data   = data[:boundary]\n",
        "  train_labels = labels[:boundary]\n",
        "  validation_data = data[boundary:]\n",
        "  validation_labels = labels[boundary:]\n",
        "\n",
        "  return (train_data, train_labels), (validation_data, validation_labels)\n",
        "\n",
        "(x_train, y_train), (x_val, y_val) = split_train_set(x, y)\n",
        "\n",
        "# normalization, vectorization\n",
        "from keras.utils import to_categorical\n",
        "x_train = x_train.astype('float32') / 255\n",
        "y_train = to_categorical(y_train)\n",
        "x_val = x_val.astype('float32') / 255\n",
        "y_val = to_categorical(y_val)"
      ],
      "execution_count": 0,
      "outputs": []
    },
    {
      "cell_type": "code",
      "metadata": {
        "id": "ETRxZJsWOYJa",
        "colab_type": "code",
        "outputId": "16e2ac87-8cac-4f12-c41c-79632af40f59",
        "colab": {
          "base_uri": "https://localhost:8080/",
          "height": 323
        }
      },
      "source": [
        "from keras import models\n",
        "from keras import layers\n",
        "from keras import regularizers\n",
        "# input parameters\n",
        "input_shape = x_train[0].shape\n",
        "num_labels = 10\n",
        "\n",
        "# network parameters\n",
        "batch_size = 64\n",
        "hidden_units = 512\n",
        "data_augmentation = False\n",
        "epochs = 30\n",
        "max_batches = len(x_train) // batch_size\n",
        "\n",
        "dropout_rate = 0.05\n",
        "l2_weight = 0.001\n",
        "\n",
        "model = models.Sequential()\n",
        "model.add(layers.Dense(hidden_units,\n",
        "                       kernel_regularizer=regularizers.l2(l2_weight),\n",
        "                       activation='relu', \n",
        "                       input_shape=input_shape))\n",
        "model.add(layers.Dropout(dropout_rate))\n",
        "model.add(layers.Dense(hidden_units,\n",
        "                       kernel_regularizer=regularizers.l2(l2_weight),\n",
        "                       activation='relu'))\n",
        "model.add(layers.Dropout(dropout_rate))\n",
        "model.add(layers.Dense(num_labels, activation='softmax'))\n",
        "\n",
        "model.compile(optimizer='rmsprop',\n",
        "              loss='categorical_crossentropy',\n",
        "              metrics=['accuracy'])\n",
        "\n",
        "model.summary()"
      ],
      "execution_count": 66,
      "outputs": [
        {
          "output_type": "stream",
          "text": [
            "Model: \"sequential_18\"\n",
            "_________________________________________________________________\n",
            "Layer (type)                 Output Shape              Param #   \n",
            "=================================================================\n",
            "dense_52 (Dense)             (None, 512)               1573376   \n",
            "_________________________________________________________________\n",
            "dropout_23 (Dropout)         (None, 512)               0         \n",
            "_________________________________________________________________\n",
            "dense_53 (Dense)             (None, 512)               262656    \n",
            "_________________________________________________________________\n",
            "dropout_24 (Dropout)         (None, 512)               0         \n",
            "_________________________________________________________________\n",
            "dense_54 (Dense)             (None, 10)                5130      \n",
            "=================================================================\n",
            "Total params: 1,841,162\n",
            "Trainable params: 1,841,162\n",
            "Non-trainable params: 0\n",
            "_________________________________________________________________\n"
          ],
          "name": "stdout"
        }
      ]
    },
    {
      "cell_type": "code",
      "metadata": {
        "id": "K8kH2HKPjLRB",
        "colab_type": "code",
        "outputId": "a0bc0ab0-45bc-4dd1-b961-a582214e89d6",
        "colab": {
          "base_uri": "https://localhost:8080/",
          "height": 1000
        }
      },
      "source": [
        "# training the model\n",
        "history = model.fit(x_train, y_train,\n",
        "                    epochs=epochs, batch_size=batch_size,\n",
        "                    validation_data=(x_val, y_val))"
      ],
      "execution_count": 63,
      "outputs": [
        {
          "output_type": "stream",
          "text": [
            "Train on 32000 samples, validate on 8000 samples\n",
            "Epoch 1/50\n",
            "32000/32000 [==============================] - 4s 117us/step - loss: 2.3043 - acc: 0.2584 - val_loss: 2.1142 - val_acc: 0.2766\n",
            "Epoch 2/50\n",
            "32000/32000 [==============================] - 3s 84us/step - loss: 1.9041 - acc: 0.3311 - val_loss: 1.8311 - val_acc: 0.3596\n",
            "Epoch 3/50\n",
            "32000/32000 [==============================] - 3s 86us/step - loss: 1.8518 - acc: 0.3557 - val_loss: 1.8546 - val_acc: 0.3563\n",
            "Epoch 4/50\n",
            "32000/32000 [==============================] - 3s 83us/step - loss: 1.8153 - acc: 0.3725 - val_loss: 1.7500 - val_acc: 0.4078\n",
            "Epoch 5/50\n",
            "32000/32000 [==============================] - 3s 84us/step - loss: 1.7808 - acc: 0.3849 - val_loss: 1.7355 - val_acc: 0.4051\n",
            "Epoch 6/50\n",
            "32000/32000 [==============================] - 3s 86us/step - loss: 1.7619 - acc: 0.3936 - val_loss: 1.7435 - val_acc: 0.4076\n",
            "Epoch 7/50\n",
            "32000/32000 [==============================] - 3s 86us/step - loss: 1.7456 - acc: 0.3976 - val_loss: 1.6959 - val_acc: 0.4150\n",
            "Epoch 8/50\n",
            "32000/32000 [==============================] - 3s 86us/step - loss: 1.7354 - acc: 0.4019 - val_loss: 1.6919 - val_acc: 0.4274\n",
            "Epoch 9/50\n",
            "32000/32000 [==============================] - 3s 85us/step - loss: 1.7232 - acc: 0.4140 - val_loss: 1.6753 - val_acc: 0.4345\n",
            "Epoch 10/50\n",
            "32000/32000 [==============================] - 3s 85us/step - loss: 1.7205 - acc: 0.4146 - val_loss: 1.7202 - val_acc: 0.4079\n",
            "Epoch 11/50\n",
            "32000/32000 [==============================] - 3s 84us/step - loss: 1.7131 - acc: 0.4152 - val_loss: 1.7223 - val_acc: 0.4071\n",
            "Epoch 12/50\n",
            "32000/32000 [==============================] - 3s 83us/step - loss: 1.7121 - acc: 0.4182 - val_loss: 1.6726 - val_acc: 0.4375\n",
            "Epoch 13/50\n",
            "32000/32000 [==============================] - 3s 83us/step - loss: 1.7065 - acc: 0.4229 - val_loss: 1.6689 - val_acc: 0.4361\n",
            "Epoch 14/50\n",
            "32000/32000 [==============================] - 3s 83us/step - loss: 1.7017 - acc: 0.4233 - val_loss: 1.6619 - val_acc: 0.4490\n",
            "Epoch 15/50\n",
            "32000/32000 [==============================] - 3s 85us/step - loss: 1.6991 - acc: 0.4241 - val_loss: 1.7291 - val_acc: 0.4066\n",
            "Epoch 16/50\n",
            "32000/32000 [==============================] - 3s 87us/step - loss: 1.6962 - acc: 0.4251 - val_loss: 1.7188 - val_acc: 0.4169\n",
            "Epoch 17/50\n",
            "32000/32000 [==============================] - 3s 85us/step - loss: 1.6949 - acc: 0.4264 - val_loss: 1.7729 - val_acc: 0.4056\n",
            "Epoch 18/50\n",
            "32000/32000 [==============================] - 3s 84us/step - loss: 1.6872 - acc: 0.4263 - val_loss: 1.6943 - val_acc: 0.4323\n",
            "Epoch 19/50\n",
            "32000/32000 [==============================] - 3s 86us/step - loss: 1.6916 - acc: 0.4304 - val_loss: 1.6387 - val_acc: 0.4537\n",
            "Epoch 20/50\n",
            "32000/32000 [==============================] - 3s 83us/step - loss: 1.6874 - acc: 0.4292 - val_loss: 1.6764 - val_acc: 0.4334\n",
            "Epoch 21/50\n",
            "32000/32000 [==============================] - 3s 86us/step - loss: 1.6871 - acc: 0.4295 - val_loss: 1.7189 - val_acc: 0.4329\n",
            "Epoch 22/50\n",
            "32000/32000 [==============================] - 3s 87us/step - loss: 1.6886 - acc: 0.4278 - val_loss: 1.7181 - val_acc: 0.4219\n",
            "Epoch 23/50\n",
            "32000/32000 [==============================] - 3s 89us/step - loss: 1.6861 - acc: 0.4291 - val_loss: 1.7312 - val_acc: 0.4236\n",
            "Epoch 24/50\n",
            "32000/32000 [==============================] - 3s 88us/step - loss: 1.6896 - acc: 0.4319 - val_loss: 1.7073 - val_acc: 0.4400\n",
            "Epoch 25/50\n",
            "32000/32000 [==============================] - 3s 83us/step - loss: 1.6834 - acc: 0.4317 - val_loss: 1.6794 - val_acc: 0.4390\n",
            "Epoch 26/50\n",
            "32000/32000 [==============================] - 3s 87us/step - loss: 1.6750 - acc: 0.4382 - val_loss: 1.7230 - val_acc: 0.4231\n",
            "Epoch 27/50\n",
            "32000/32000 [==============================] - 3s 86us/step - loss: 1.6793 - acc: 0.4351 - val_loss: 1.6536 - val_acc: 0.4402\n",
            "Epoch 28/50\n",
            "32000/32000 [==============================] - 3s 83us/step - loss: 1.6792 - acc: 0.4351 - val_loss: 1.7058 - val_acc: 0.4210\n",
            "Epoch 29/50\n",
            "32000/32000 [==============================] - 3s 87us/step - loss: 1.6784 - acc: 0.4352 - val_loss: 1.8478 - val_acc: 0.3929\n",
            "Epoch 30/50\n",
            "32000/32000 [==============================] - 3s 87us/step - loss: 1.6794 - acc: 0.4336 - val_loss: 1.7357 - val_acc: 0.4255\n",
            "Epoch 31/50\n",
            "32000/32000 [==============================] - 3s 84us/step - loss: 1.6750 - acc: 0.4369 - val_loss: 1.7132 - val_acc: 0.4163\n",
            "Epoch 32/50\n",
            "32000/32000 [==============================] - 3s 88us/step - loss: 1.6766 - acc: 0.4365 - val_loss: 1.6862 - val_acc: 0.4306\n",
            "Epoch 33/50\n",
            "32000/32000 [==============================] - 3s 87us/step - loss: 1.6835 - acc: 0.4324 - val_loss: 1.7297 - val_acc: 0.4245\n",
            "Epoch 34/50\n",
            "32000/32000 [==============================] - 3s 86us/step - loss: 1.6789 - acc: 0.4404 - val_loss: 1.7398 - val_acc: 0.4099\n",
            "Epoch 35/50\n",
            "32000/32000 [==============================] - 3s 86us/step - loss: 1.6747 - acc: 0.4368 - val_loss: 1.7098 - val_acc: 0.4276\n",
            "Epoch 36/50\n",
            "32000/32000 [==============================] - 3s 83us/step - loss: 1.6760 - acc: 0.4335 - val_loss: 1.7720 - val_acc: 0.4166\n",
            "Epoch 37/50\n",
            "32000/32000 [==============================] - 3s 85us/step - loss: 1.6688 - acc: 0.4376 - val_loss: 1.6832 - val_acc: 0.4303\n",
            "Epoch 38/50\n",
            "32000/32000 [==============================] - 3s 82us/step - loss: 1.6757 - acc: 0.4384 - val_loss: 1.7726 - val_acc: 0.4012\n",
            "Epoch 39/50\n",
            "32000/32000 [==============================] - 3s 83us/step - loss: 1.6724 - acc: 0.4398 - val_loss: 1.7022 - val_acc: 0.4299\n",
            "Epoch 40/50\n",
            "32000/32000 [==============================] - 3s 81us/step - loss: 1.6730 - acc: 0.4413 - val_loss: 1.7079 - val_acc: 0.4213\n",
            "Epoch 41/50\n",
            "32000/32000 [==============================] - 3s 85us/step - loss: 1.6702 - acc: 0.4399 - val_loss: 1.6421 - val_acc: 0.4476\n",
            "Epoch 42/50\n",
            "32000/32000 [==============================] - 3s 83us/step - loss: 1.6733 - acc: 0.4436 - val_loss: 1.6670 - val_acc: 0.4400\n",
            "Epoch 43/50\n",
            "32000/32000 [==============================] - 3s 87us/step - loss: 1.6746 - acc: 0.4358 - val_loss: 1.7343 - val_acc: 0.4163\n",
            "Epoch 44/50\n",
            "32000/32000 [==============================] - 3s 85us/step - loss: 1.6742 - acc: 0.4411 - val_loss: 1.7450 - val_acc: 0.4191\n",
            "Epoch 45/50\n",
            "32000/32000 [==============================] - 3s 86us/step - loss: 1.6811 - acc: 0.4376 - val_loss: 1.7425 - val_acc: 0.4091\n",
            "Epoch 46/50\n",
            "32000/32000 [==============================] - 3s 83us/step - loss: 1.6764 - acc: 0.4382 - val_loss: 1.7204 - val_acc: 0.4293\n",
            "Epoch 47/50\n",
            "32000/32000 [==============================] - 3s 84us/step - loss: 1.6742 - acc: 0.4383 - val_loss: 1.7268 - val_acc: 0.4226\n",
            "Epoch 48/50\n",
            "32000/32000 [==============================] - 3s 86us/step - loss: 1.6720 - acc: 0.4403 - val_loss: 1.7794 - val_acc: 0.4402\n",
            "Epoch 49/50\n",
            "32000/32000 [==============================] - 3s 85us/step - loss: 1.6713 - acc: 0.4402 - val_loss: 1.6886 - val_acc: 0.4363\n",
            "Epoch 50/50\n",
            "32000/32000 [==============================] - 3s 85us/step - loss: 1.6709 - acc: 0.4412 - val_loss: 1.7080 - val_acc: 0.4325\n"
          ],
          "name": "stdout"
        }
      ]
    },
    {
      "cell_type": "code",
      "metadata": {
        "id": "5ZnwNbcDiw8d",
        "colab_type": "code",
        "outputId": "be82b92e-ff74-43ff-8434-430c0d858a91",
        "colab": {
          "base_uri": "https://localhost:8080/",
          "height": 295
        }
      },
      "source": [
        "plot_loss(history)"
      ],
      "execution_count": 64,
      "outputs": [
        {
          "output_type": "display_data",
          "data": {
            "image/png": "[encoded data removed]",
            "text/plain": [
              "<Figure size 432x288 with 1 Axes>"
            ]
          },
          "metadata": {
            "tags": []
          }
        }
      ]
    },
    {
      "cell_type": "code",
      "metadata": {
        "id": "aZKkWWm2hVBX",
        "colab_type": "code",
        "colab": {}
      },
      "source": [
        "# plotting the training and validation losses\n",
        "import matplotlib.pyplot as plt\n",
        "\n",
        "def plot_loss(history):\n",
        "  # assert 'val_loss' in history.history\n",
        "\n",
        "  loss = history.history['loss']\n",
        "  val_loss = history.history['val_loss']\n",
        "\n",
        "  epoch_axis = range(1, epochs + 1)\n",
        "\n",
        "  plt.plot(epoch_axis, loss, 'bo', label='Training loss')\n",
        "  plt.plot(epoch_axis, val_loss, 'b', label='Validation loss')\n",
        "\n",
        "  plt.title('Training and Validation Loss')\n",
        "  plt.xlabel('Epochs')\n",
        "  plt.ylabel('Loss')\n",
        "  plt.legend()\n",
        "\n",
        "  plt.show()"
      ],
      "execution_count": 0,
      "outputs": []
    },
    {
      "cell_type": "code",
      "metadata": {
        "id": "g4gCJvq5hdri",
        "colab_type": "code",
        "colab": {}
      },
      "source": [
        "# plotting the training and validation accuracy\n",
        "def plot_acc(history):\n",
        "  # assert 'val_acc' in history.history\n",
        "  acc = history.history['acc']\n",
        "  val_acc = history.history['val_acc']\n",
        "\n",
        "  plt.plot(epochs, acc, 'ro', label='Training acc')\n",
        "  plt.plot(epochs, val_acc, 'r', label='Validation acc')\n",
        "\n",
        "  plt.title('Training and validation loss & acc')\n",
        "  plt.xlabel('Epochs')\n",
        "  plt.ylabel('Acc')\n",
        "  plt.legend()\n",
        "\n",
        "  plt.show()"
      ],
      "execution_count": 0,
      "outputs": []
    }
  ]
}
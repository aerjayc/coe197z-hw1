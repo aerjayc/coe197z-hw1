{
  "nbformat": 4,
  "nbformat_minor": 0,
  "metadata": {
    "colab": {
      "name": "cifar-10-mlp.ipynb",
      "version": "0.3.2",
      "provenance": [],
      "collapsed_sections": [],
      "include_colab_link": true
    },
    "kernelspec": {
      "name": "python3",
      "display_name": "Python 3"
    },
    "accelerator": "GPU"
  },
  "cells": [
    {
      "cell_type": "markdown",
      "metadata": {
        "id": "view-in-github",
        "colab_type": "text"
      },
      "source": [
        "<a href=\"https://colab.research.google.com/github/aerjayc/coe197z-hw1/blob/master/cifar_10_mlp.ipynb\" target=\"_parent\"><img src=\"https://colab.research.google.com/assets/colab-badge.svg\" alt=\"Open In Colab\"/></a>"
      ]
    },
    {
      "cell_type": "markdown",
      "metadata": {
        "colab_type": "text",
        "id": "VVHwkt0uORdR"
      },
      "source": [
        "First, we download the `CIFAR-10` dataset and extract its contents to the current directory. The working directory is now:\n",
        "\n",
        "\n",
        "```\n",
        ">ls\n",
        "  cifar-10-batches-py  cifar-10-python.tar.gz  sample_data\n",
        ">ls cifar-10-batches-py\n",
        "  batches.meta  data_batch_2  data_batch_4  readme.html\n",
        "  data_batch_1  data_batch_3  data_batch_5  test_batch\n",
        "```\n",
        "\n"
      ]
    },
    {
      "cell_type": "code",
      "metadata": {
        "id": "XBHS-YoKCpV8",
        "colab_type": "code",
        "outputId": "9189435d-88ef-49df-be78-3adda62ce638",
        "colab": {
          "base_uri": "https://localhost:8080/",
          "height": 357
        }
      },
      "source": [
        "!wget http://www.cs.toronto.edu/~kriz/cifar-10-python.tar.gz\n",
        "!tar -xzvf cifar-10-python.tar.gz"
      ],
      "execution_count": 2,
      "outputs": [
        {
          "output_type": "stream",
          "text": [
            "--2019-09-14 11:32:06--  http://www.cs.toronto.edu/~kriz/cifar-10-python.tar.gz\n",
            "Resolving www.cs.toronto.edu (www.cs.toronto.edu)... 128.100.3.30\n",
            "Connecting to www.cs.toronto.edu (www.cs.toronto.edu)|128.100.3.30|:80... connected.\n",
            "HTTP request sent, awaiting response... 200 OK\n",
            "Length: 170498071 (163M) [application/x-gzip]\n",
            "Saving to: ‘cifar-10-python.tar.gz’\n",
            "\n",
            "cifar-10-python.tar 100%[===================>] 162.60M  31.5MB/s    in 5.8s    \n",
            "\n",
            "2019-09-14 11:32:12 (28.1 MB/s) - ‘cifar-10-python.tar.gz’ saved [170498071/170498071]\n",
            "\n",
            "cifar-10-batches-py/\n",
            "cifar-10-batches-py/data_batch_4\n",
            "cifar-10-batches-py/readme.html\n",
            "cifar-10-batches-py/test_batch\n",
            "cifar-10-batches-py/data_batch_3\n",
            "cifar-10-batches-py/batches.meta\n",
            "cifar-10-batches-py/data_batch_2\n",
            "cifar-10-batches-py/data_batch_5\n",
            "cifar-10-batches-py/data_batch_1\n"
          ],
          "name": "stdout"
        }
      ]
    },
    {
      "cell_type": "markdown",
      "metadata": {
        "id": "pR8sSc0NZL3e",
        "colab_type": "text"
      },
      "source": [
        "Then, we \"unpickle\" the downloaded dataset. The `unpickle()` function was taken from the [CIFAR website](http://www.cs.toronto.edu/~kriz/cifar.html). It takes the filename of any of the batch files, and outputs the `dict` contained in that file.\n",
        "The structure of these `dict`'s is the following:\n",
        "\n",
        "\n",
        "```\n",
        "batch = {\n",
        "  b'batch_label': b'training batch 1 of 5',\n",
        "  b'data': array([ [<image_0>],\n",
        "                   ...,\n",
        "                   [<image 9999>]\n",
        "                 ], dtype=uint8),\n",
        "  b'filenames': [b'<filename_0.png',\n",
        "                 ...,\n",
        "                 b'<filename_9999.png',\n",
        "                ],\n",
        "  b'labels': [<label_0>, ..., <label_9999>],\n",
        "}\n",
        "```\n",
        "\n",
        "where:\n",
        "\n",
        "*   `[<image i>]` is a numpy vector of shape `(1024*1024*3,)`. The first `1024` entries in the vector correspond to the pixel intensities of the red channel, the second `1024` corresponds to the blue channel, and so on. Note that the pixel intensity spans the entire uint8 values.\n",
        "*   `b'<filename_i>'` is a binary string corresponding to the filename of the `i`-th image\n",
        "*   `<label_i>` $\\in \\{0,1,...,9\\}$, where each integer corresponds to some classification of the `i`-th image\n",
        "\n",
        "Note that the dictionary keys are binary strings."
      ]
    },
    {
      "cell_type": "code",
      "metadata": {
        "id": "YOsCAN0uT7w-",
        "colab_type": "code",
        "colab": {}
      },
      "source": [
        "def unpickle(file):\n",
        "  import pickle\n",
        "  with open(file, 'rb') as fo:\n",
        "    dict = pickle.load(fo, encoding='bytes')\n",
        "  return dict\n",
        "\n",
        "data_batch_1 = unpickle('cifar-10-batches-py/data_batch_1')\n",
        "test_batch   = unpickle('cifar-10-batches-py/test_batch')\n",
        "x1 = data_batch_1[b'data']\n",
        "y1 = data_batch_1[b'labels']"
      ],
      "execution_count": 0,
      "outputs": []
    },
    {
      "cell_type": "markdown",
      "metadata": {
        "id": "7AiIG_tnM_6n",
        "colab_type": "text"
      },
      "source": [
        "https://stackoverflow.com/questions/4601373/better-way-to-shuffle-two-numpy-arrays-in-unison"
      ]
    },
    {
      "cell_type": "code",
      "metadata": {
        "id": "a9pOirjuBGHI",
        "colab_type": "code",
        "colab": {}
      },
      "source": [
        "import numpy as np\n",
        "\n",
        "def split_train_set(data, labels, data_fraction=0.8):\n",
        "  assert 0 < data_fraction <= 1\n",
        "\n",
        "  # jointly shuffle the data and labels first\n",
        "  # note: data and labels get shuffled (not copied)\n",
        "  rng_state = np.random.get_state()\n",
        "  np.random.shuffle(data)\n",
        "  np.random.set_state(rng_state)\n",
        "  np.random.shuffle(labels)\n",
        "\n",
        "  # get the first data_fraction of the train set\n",
        "  boundary = int(len(data)*data_fraction)\n",
        "  train_data   = data[:boundary]\n",
        "  train_labels = labels[:boundary]\n",
        "  validation_data = data[boundary:]\n",
        "  validation_labels = labels[boundary:]\n",
        "\n",
        "  return (train_data, train_labels), (validation_data, validation_labels)\n",
        "\n",
        "(x_train, y_train), (x_val, y_val) = split_train_set(x1, y1)\n",
        "\n",
        "# normalization, vectorization\n",
        "x_train = x_train.astype('float32') / 255\n",
        "y_train = to_categorical(y_train)\n",
        "x_val = x_val.astype('float32') / 255\n",
        "y_val = to_categorical(y_val)"
      ],
      "execution_count": 0,
      "outputs": []
    },
    {
      "cell_type": "code",
      "metadata": {
        "id": "ETRxZJsWOYJa",
        "colab_type": "code",
        "outputId": "d1c13d61-674d-4316-9e7d-23a975455331",
        "colab": {
          "base_uri": "https://localhost:8080/",
          "height": 343
        }
      },
      "source": [
        "from keras import models\n",
        "from keras import layers\n",
        "\n",
        "# input parameters\n",
        "input_shape = x_train[0].shape\n",
        "num_labels = 10\n",
        "\n",
        "# network parameters\n",
        "batch_size = 64\n",
        "hidden_units = 64\n",
        "data_augmentation = False\n",
        "epochs = 20\n",
        "max_batches = len(x_train) // batch_size\n",
        "\n",
        "model = models.Sequential()\n",
        "model.add(layers.Dense(hidden_units, activation='relu', \n",
        "                       input_shape=input_shape))\n",
        "model.add(layers.Dense(hidden_units, activation='relu'))\n",
        "model.add(layers.Dense(num_labels, activation='softmax'))\n",
        "\n",
        "model.compile(optimizer='rmsprop',\n",
        "              loss='categorical_crossentropy',\n",
        "              metrics=['accuracy'])\n",
        "\n",
        "model.summary()"
      ],
      "execution_count": 7,
      "outputs": [
        {
          "output_type": "stream",
          "text": [
            "WARNING:tensorflow:From /usr/local/lib/python3.6/dist-packages/keras/optimizers.py:793: The name tf.train.Optimizer is deprecated. Please use tf.compat.v1.train.Optimizer instead.\n",
            "\n",
            "WARNING:tensorflow:From /usr/local/lib/python3.6/dist-packages/keras/backend/tensorflow_backend.py:3576: The name tf.log is deprecated. Please use tf.math.log instead.\n",
            "\n",
            "Model: \"sequential_2\"\n",
            "_________________________________________________________________\n",
            "Layer (type)                 Output Shape              Param #   \n",
            "=================================================================\n",
            "dense_4 (Dense)              (None, 64)                196672    \n",
            "_________________________________________________________________\n",
            "dense_5 (Dense)              (None, 64)                4160      \n",
            "_________________________________________________________________\n",
            "dense_6 (Dense)              (None, 10)                650       \n",
            "=================================================================\n",
            "Total params: 201,482\n",
            "Trainable params: 201,482\n",
            "Non-trainable params: 0\n",
            "_________________________________________________________________\n"
          ],
          "name": "stdout"
        }
      ]
    },
    {
      "cell_type": "code",
      "metadata": {
        "id": "K8kH2HKPjLRB",
        "colab_type": "code",
        "colab": {
          "base_uri": "https://localhost:8080/",
          "height": 819
        },
        "outputId": "52754d87-1698-447c-8952-30933ff3b85e"
      },
      "source": [
        "# training the model\n",
        "history = model.fit(x_train, y_train,\n",
        "                    epochs=epochs, batch_size=batch_size,\n",
        "                    validation_data=(x_val, y_val))"
      ],
      "execution_count": 8,
      "outputs": [
        {
          "output_type": "stream",
          "text": [
            "WARNING:tensorflow:From /usr/local/lib/python3.6/dist-packages/tensorflow/python/ops/math_grad.py:1250: add_dispatch_support.<locals>.wrapper (from tensorflow.python.ops.array_ops) is deprecated and will be removed in a future version.\n",
            "Instructions for updating:\n",
            "Use tf.where in 2.0, which has the same broadcast rule as np.where\n",
            "WARNING:tensorflow:From /usr/local/lib/python3.6/dist-packages/keras/backend/tensorflow_backend.py:1033: The name tf.assign_add is deprecated. Please use tf.compat.v1.assign_add instead.\n",
            "\n",
            "Train on 8000 samples, validate on 2000 samples\n",
            "Epoch 1/20\n",
            "8000/8000 [==============================] - 5s 669us/step - loss: 2.2446 - acc: 0.1855 - val_loss: 2.0226 - val_acc: 0.2340\n",
            "Epoch 2/20\n",
            "8000/8000 [==============================] - 1s 83us/step - loss: 2.0099 - acc: 0.2600 - val_loss: 1.9364 - val_acc: 0.2860\n",
            "Epoch 3/20\n",
            "8000/8000 [==============================] - 1s 82us/step - loss: 1.9263 - acc: 0.3061 - val_loss: 1.8925 - val_acc: 0.3045\n",
            "Epoch 4/20\n",
            "8000/8000 [==============================] - 1s 82us/step - loss: 1.8638 - acc: 0.3229 - val_loss: 1.8992 - val_acc: 0.3020\n",
            "Epoch 5/20\n",
            "8000/8000 [==============================] - 1s 78us/step - loss: 1.8243 - acc: 0.3421 - val_loss: 1.8667 - val_acc: 0.3070\n",
            "Epoch 6/20\n",
            "8000/8000 [==============================] - 1s 87us/step - loss: 1.7933 - acc: 0.3575 - val_loss: 1.8088 - val_acc: 0.3340\n",
            "Epoch 7/20\n",
            "8000/8000 [==============================] - 1s 81us/step - loss: 1.7651 - acc: 0.3627 - val_loss: 1.7993 - val_acc: 0.3315\n",
            "Epoch 8/20\n",
            "8000/8000 [==============================] - 1s 77us/step - loss: 1.7307 - acc: 0.3879 - val_loss: 1.7829 - val_acc: 0.3415\n",
            "Epoch 9/20\n",
            "8000/8000 [==============================] - 1s 84us/step - loss: 1.7142 - acc: 0.3837 - val_loss: 1.7873 - val_acc: 0.3455\n",
            "Epoch 10/20\n",
            "8000/8000 [==============================] - 1s 77us/step - loss: 1.6809 - acc: 0.4039 - val_loss: 1.7749 - val_acc: 0.3375\n",
            "Epoch 11/20\n",
            "8000/8000 [==============================] - 1s 81us/step - loss: 1.6685 - acc: 0.4057 - val_loss: 1.8347 - val_acc: 0.3395\n",
            "Epoch 12/20\n",
            "8000/8000 [==============================] - 1s 79us/step - loss: 1.6527 - acc: 0.4073 - val_loss: 1.8040 - val_acc: 0.3350\n",
            "Epoch 13/20\n",
            "8000/8000 [==============================] - 1s 78us/step - loss: 1.6286 - acc: 0.4233 - val_loss: 1.7517 - val_acc: 0.3640\n",
            "Epoch 14/20\n",
            "8000/8000 [==============================] - 1s 84us/step - loss: 1.6148 - acc: 0.4205 - val_loss: 1.7534 - val_acc: 0.3685\n",
            "Epoch 15/20\n",
            "8000/8000 [==============================] - 1s 83us/step - loss: 1.6059 - acc: 0.4243 - val_loss: 1.7911 - val_acc: 0.3600\n",
            "Epoch 16/20\n",
            "8000/8000 [==============================] - 1s 79us/step - loss: 1.5871 - acc: 0.4341 - val_loss: 1.7605 - val_acc: 0.3520\n",
            "Epoch 17/20\n",
            "8000/8000 [==============================] - 1s 86us/step - loss: 1.5731 - acc: 0.4360 - val_loss: 1.7936 - val_acc: 0.3745\n",
            "Epoch 18/20\n",
            "8000/8000 [==============================] - 1s 80us/step - loss: 1.5663 - acc: 0.4411 - val_loss: 1.8234 - val_acc: 0.3590\n",
            "Epoch 19/20\n",
            "8000/8000 [==============================] - 1s 81us/step - loss: 1.5543 - acc: 0.4483 - val_loss: 1.8992 - val_acc: 0.3480\n",
            "Epoch 20/20\n",
            "8000/8000 [==============================] - 1s 80us/step - loss: 1.5462 - acc: 0.4494 - val_loss: 1.7986 - val_acc: 0.3470\n"
          ],
          "name": "stdout"
        }
      ]
    },
    {
      "cell_type": "code",
      "metadata": {
        "id": "aZKkWWm2hVBX",
        "colab_type": "code",
        "colab": {}
      },
      "source": [
        "# plotting the training and validation losses\n",
        "import matplotlib.pyplot as plt\n",
        "\n",
        "def plot_loss(history):\n",
        "  # assert 'val_loss' in history.history\n",
        "\n",
        "  loss = history.history['loss']\n",
        "  val_loss = history.history['val_loss']\n",
        "\n",
        "  epoch_axis = range(1, epochs + 1)\n",
        "\n",
        "  plt.plot(epoch_axis, loss, 'bo', label='Training loss')\n",
        "  plt.plot(epoch_axis, val_loss, 'b', label='Validation loss')\n",
        "\n",
        "  plt.title('Training and Validation Loss')\n",
        "  plt.xlabel('Epochs')\n",
        "  plt.ylabel('Loss')\n",
        "  plt.legend()\n",
        "\n",
        "  plt.show()"
      ],
      "execution_count": 0,
      "outputs": []
    },
    {
      "cell_type": "code",
      "metadata": {
        "id": "5ZnwNbcDiw8d",
        "colab_type": "code",
        "colab": {
          "base_uri": "https://localhost:8080/",
          "height": 295
        },
        "outputId": "05452abd-4cea-4292-c3d3-7dbbe2549efe"
      },
      "source": [
        "plot_loss(history)"
      ],
      "execution_count": 16,
      "outputs": [
        {
          "output_type": "display_data",
          "data": {
            "image/png": "[encoded data removed]",
            "text/plain": [
              "<Figure size 432x288 with 1 Axes>"
            ]
          },
          "metadata": {
            "tags": []
          }
        }
      ]
    },
    {
      "cell_type": "code",
      "metadata": {
        "id": "g4gCJvq5hdri",
        "colab_type": "code",
        "colab": {}
      },
      "source": [
        "# plotting the training and validation accuracy\n",
        "def plot_acc(history):\n",
        "  # assert 'val_acc' in history.history\n",
        "  acc = history.history['acc']\n",
        "  val_acc = history.history['val_acc']\n",
        "\n",
        "  plt.plot(epochs, acc, 'ro', label='Training acc')\n",
        "  plt.plot(epochs, val_acc, 'r', label='Validation acc')\n",
        "\n",
        "  plt.title('Training and validation loss & acc')\n",
        "  plt.xlabel('Epochs')\n",
        "  plt.ylabel('Acc')\n",
        "  plt.legend()\n",
        "\n",
        "  plt.show()"
      ],
      "execution_count": 0,
      "outputs": []
    }
  ]
}